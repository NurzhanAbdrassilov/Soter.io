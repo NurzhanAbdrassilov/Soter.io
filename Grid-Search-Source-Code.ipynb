{
 "cells": [
  {
   "cell_type": "code",
   "execution_count": 10,
   "metadata": {},
   "outputs": [],
   "source": [
    "import pandas as pd\n",
    "from sklearn.model_selection import train_test_split, GridSearchCV\n",
    "from sklearn.ensemble import RandomForestClassifier\n",
    "from sklearn.metrics import accuracy_score, classification_report, confusion_matrix\n",
    "import solcx\n",
    "from feature_extractor import extract_features_from_raw_code"
   ]
  },
  {
   "cell_type": "code",
   "execution_count": 11,
   "metadata": {},
   "outputs": [
    {
     "name": "stdout",
     "output_type": "stream",
     "text": [
      "Active Solidity version: 0.8.0\n"
     ]
    }
   ],
   "source": [
    "import solcx\n",
    "solcx.set_solc_version(\"0.8.0\")  # Use the manually installed version\n",
    "print(\"Active Solidity version:\", solcx.get_solc_version())"
   ]
  },
  {
   "cell_type": "code",
   "execution_count": 12,
   "metadata": {},
   "outputs": [
    {
     "name": "stdout",
     "output_type": "stream",
     "text": [
      "Class Distribution in Entire Dataset:\n",
      "label\n",
      "0    26915\n",
      "1     9756\n",
      "Name: count, dtype: int64\n"
     ]
    }
   ],
   "source": [
    "df_secure = pd.read_csv('bccc-vulscs-2023/BCCC-VolSCs-2023_Secure.csv')\n",
    "\n",
    "df_vulnerable = pd.read_csv('bccc-vulscs-2023/BCCC-VolSCs-2023_Vulnerable.csv')\n",
    "\n",
    "df_combined = pd.concat([df_secure, df_vulnerable], ignore_index=True)\n",
    "\n",
    "print(\"Class Distribution in Entire Dataset:\")\n",
    "print(df_combined['label'].value_counts())\n"
   ]
  },
  {
   "cell_type": "code",
   "execution_count": 13,
   "metadata": {},
   "outputs": [],
   "source": [
    "df_combined.head()\n",
    "df = df_combined"
   ]
  },
  {
   "cell_type": "code",
   "execution_count": 14,
   "metadata": {},
   "outputs": [],
   "source": [
    "# Select relevant columns for training\n",
    "relevant_columns = [\n",
    "    'bytecode_len', 'bytecode_entropy', 'ast_len_nodes',  # Bytecode and AST features\n",
    "] + [col for col in df.columns if 'Weight bytecode_character_' in col]  # Character weights\n",
    "\n",
    "X = df[relevant_columns]\n",
    "y = df['label']  # Labels\n",
    "\n",
    "# Train-test split\n",
    "X_train, X_test, y_train, y_test = train_test_split(X, y, test_size=0.2, random_state=42, stratify=y)\n"
   ]
  },
  {
   "cell_type": "code",
   "execution_count": 18,
   "metadata": {},
   "outputs": [],
   "source": [
    "# Hyperparameter tuning with GridSearchCV\n",
    "param_grid = {\n",
    "    'n_estimators': [100, 200],\n",
    "    'max_depth': [10, 20, None],\n",
    "    'min_samples_split': [2, 5],\n",
    "    'min_samples_leaf': [1, 2],\n",
    "    'max_features': ['sqrt']\n",
    "}"
   ]
  },
  {
   "cell_type": "code",
   "execution_count": 19,
   "metadata": {},
   "outputs": [],
   "source": [
    "grid_search = GridSearchCV(\n",
    "    RandomForestClassifier(random_state=42),\n",
    "    param_grid,\n",
    "    cv=2,  # 3-fold cross-validation\n",
    "    scoring='accuracy',\n",
    "    n_jobs=-1,\n",
    "    verbose=1\n",
    ")"
   ]
  },
  {
   "cell_type": "code",
   "execution_count": 21,
   "metadata": {},
   "outputs": [
    {
     "name": "stdout",
     "output_type": "stream",
     "text": [
      "Fitting 2 folds for each of 24 candidates, totalling 48 fits\n"
     ]
    }
   ],
   "source": [
    "# Fit the model with GridSearchCV\n",
    "grid_search.fit(X_train, y_train)\n",
    "\n",
    "# Best model from GridSearchCV\n",
    "model = grid_search.best_estimator_"
   ]
  },
  {
   "cell_type": "code",
   "execution_count": 23,
   "metadata": {},
   "outputs": [
    {
     "name": "stdout",
     "output_type": "stream",
     "text": [
      "Accuracy: 0.7597818677573279\n",
      "\n",
      "Classification Report:\n",
      "              precision    recall  f1-score   support\n",
      "\n",
      "           0       0.77      0.96      0.85      5384\n",
      "           1       0.65      0.21      0.32      1951\n",
      "\n",
      "    accuracy                           0.76      7335\n",
      "   macro avg       0.71      0.59      0.59      7335\n",
      "weighted avg       0.74      0.76      0.71      7335\n",
      "\n",
      "\n",
      "Confusion Matrix:\n",
      "[[5157  227]\n",
      " [1535  416]]\n"
     ]
    }
   ],
   "source": [
    "# Evaluate the model\n",
    "y_pred = model.predict(X_test)\n",
    "\n",
    "accuracy = accuracy_score(y_test, y_pred)\n",
    "\n",
    "\n",
    "print(\"Accuracy:\", accuracy)\n",
    "print(\"\\nClassification Report:\")\n",
    "print(classification_report(y_test, y_pred))\n",
    "print(\"\\nConfusion Matrix:\")\n",
    "print(confusion_matrix(y_test, y_pred))"
   ]
  },
  {
   "cell_type": "code",
   "execution_count": null,
   "metadata": {},
   "outputs": [],
   "source": [
    "def predict_solidity_code(raw_code):\n",
    "    # Extract features from the raw Solidity code\n",
    "    features = extract_features_from_raw_code(raw_code)\n",
    "    features_df = pd.DataFrame([features])\n",
    "\n",
    "    # Align features with the model's trained feature set\n",
    "    for col in X_train.columns:  # X_train is the DataFrame used for training\n",
    "        if col not in features_df.columns:\n",
    "            features_df[col] = 0  # Add missing columns with default value 0\n",
    "\n",
    "    # Drop any unexpected columns\n",
    "    features_df = features_df[X_train.columns]\n",
    "\n",
    "    # Predict\n",
    "    prediction = model.predict(features_df)\n",
    "    prediction_proba = model.predict_proba(features_df)\n",
    "    return prediction[0], prediction_proba[0]\n"
   ]
  },
  {
   "cell_type": "code",
   "execution_count": 11,
   "metadata": {},
   "outputs": [],
   "source": [
    "raw_code_example = \"\"\"\n",
    "pragma solidity ^0.8.0;\n",
    "\n",
    "contract Example {\n",
    "    uint256 private value;\n",
    "\n",
    "    function setValue(uint256 _value) public {\n",
    "        value = _value;\n",
    "    }\n",
    "\n",
    "    function getValue() public view returns (uint256) {\n",
    "        return value;\n",
    "    }\n",
    "}\n",
    "\"\"\""
   ]
  },
  {
   "cell_type": "code",
   "execution_count": 12,
   "metadata": {},
   "outputs": [
    {
     "name": "stdout",
     "output_type": "stream",
     "text": [
      "Prediction (0 = Secure, 1 = Vulnerable): 0\n",
      "Prediction Probability: [0.64 0.36]\n"
     ]
    }
   ],
   "source": [
    "pred, proba = predict_solidity_code(raw_code_example)\n",
    "print(\"Prediction (0 = Secure, 1 = Vulnerable):\", pred)\n",
    "print(\"Prediction Probability:\", proba)"
   ]
  },
  {
   "cell_type": "code",
   "execution_count": null,
   "metadata": {},
   "outputs": [],
   "source": []
  },
  {
   "cell_type": "code",
   "execution_count": null,
   "metadata": {},
   "outputs": [],
   "source": []
  }
 ],
 "metadata": {
  "kernelspec": {
   "display_name": "newenv",
   "language": "python",
   "name": "python3"
  },
  "language_info": {
   "codemirror_mode": {
    "name": "ipython",
    "version": 3
   },
   "file_extension": ".py",
   "mimetype": "text/x-python",
   "name": "python",
   "nbconvert_exporter": "python",
   "pygments_lexer": "ipython3",
   "version": "3.9.19"
  }
 },
 "nbformat": 4,
 "nbformat_minor": 2
}
