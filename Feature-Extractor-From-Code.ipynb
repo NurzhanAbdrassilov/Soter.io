{
 "cells": [
  {
   "cell_type": "code",
   "execution_count": 2,
   "metadata": {},
   "outputs": [
    {
     "data": {
      "text/plain": [
       "<Version('0.8.0')>"
      ]
     },
     "execution_count": 2,
     "metadata": {},
     "output_type": "execute_result"
    }
   ],
   "source": [
    "import solcx\n",
    "import re\n",
    "from collections import Counter\n",
    "import numpy as np\n",
    "\n",
    "# Install solcx if needed\n",
    "solcx.install_solc(version=\"0.8.0\")  # Adjust to the desired Solidity version"
   ]
  },
  {
   "cell_type": "code",
   "execution_count": 3,
   "metadata": {},
   "outputs": [],
   "source": [
    "import solcx\n",
    "import re\n",
    "from collections import Counter\n",
    "import numpy as np\n",
    "\n",
    "# Install solcx if needed\n",
    "solcx.install_solc(version=\"0.8.0\")  # Adjust to the desired Solidity version\n",
    "\n",
    "def extract_features_from_raw_code(source_code):\n",
    "    \"\"\"\n",
    "    Extracts features from raw Solidity code text.\n",
    "    \"\"\"\n",
    "    # Compile the Solidity code\n",
    "    compiled_sol = solcx.compile_source(source_code, output_values=[\"abi\", \"bin\", \"ast\"])\n",
    "    \n",
    "    # Replace '<stdin>:<ContractName>' with the contract's name dynamically\n",
    "    contract_name = list(compiled_sol.keys())[0]\n",
    "    bytecode = compiled_sol[contract_name][\"bin\"]\n",
    "    bytecode_len = len(bytecode)\n",
    "    \n",
    "    # Bytecode character weights\n",
    "    bytecode_chars = Counter(bytecode)\n",
    "    total_chars = sum(bytecode_chars.values())\n",
    "    char_weights = {f\"Weight bytecode_character_{char}\": bytecode_chars.get(char, 0) / total_chars for char in \"0123456789abcdef\"}\n",
    "    \n",
    "    # Opcode weights\n",
    "    opcodes = re.findall(r\"[A-Z]+\", bytecode)  # Simplistic extraction of opcodes\n",
    "    opcode_weights = Counter(opcodes)\n",
    "    total_opcodes = sum(opcode_weights.values())\n",
    "    opcode_weights_normalized = {f\"Opcode weight {op}\": opcode_weights[op] / total_opcodes for op in opcode_weights}\n",
    "    \n",
    "    # Bytecode entropy\n",
    "    bytecode_entropy = -sum((count / total_chars) * np.log2(count / total_chars) for count in bytecode_chars.values())\n",
    "    \n",
    "    # AST features\n",
    "    ast = compiled_sol[contract_name][\"ast\"]\n",
    "    ast_len_nodes = len(ast[\"nodes\"])\n",
    "    \n",
    "    # Combine features into a dictionary\n",
    "    features = {\n",
    "        \"bytecode_len\": bytecode_len,\n",
    "        \"bytecode_entropy\": bytecode_entropy,\n",
    "        \"ast_len_nodes\": ast_len_nodes,\n",
    "        **char_weights,\n",
    "        **opcode_weights_normalized,\n",
    "    }\n",
    "    \n",
    "    return features\n"
   ]
  },
  {
   "cell_type": "code",
   "execution_count": 4,
   "metadata": {},
   "outputs": [
    {
     "name": "stdout",
     "output_type": "stream",
     "text": [
      "{'bytecode_len': 670, 'bytecode_entropy': np.float64(3.4136176281522164), 'ast_len_nodes': 2, 'Weight bytecode_character_0': 0.26119402985074625, 'Weight bytecode_character_1': 0.06119402985074627, 'Weight bytecode_character_2': 0.03880597014925373, 'Weight bytecode_character_3': 0.041791044776119404, 'Weight bytecode_character_4': 0.03582089552238806, 'Weight bytecode_character_5': 0.14328358208955225, 'Weight bytecode_character_6': 0.14776119402985075, 'Weight bytecode_character_7': 0.022388059701492536, 'Weight bytecode_character_8': 0.06119402985074627, 'Weight bytecode_character_9': 0.04626865671641791, 'Weight bytecode_character_a': 0.007462686567164179, 'Weight bytecode_character_b': 0.04626865671641791, 'Weight bytecode_character_c': 0.022388059701492536, 'Weight bytecode_character_d': 0.020895522388059702, 'Weight bytecode_character_e': 0.013432835820895522, 'Weight bytecode_character_f': 0.029850746268656716}\n"
     ]
    }
   ],
   "source": [
    "\n",
    "# Example usage\n",
    "solidity_code = \"\"\"\n",
    "pragma solidity ^0.8.0;\n",
    "\n",
    "contract SimpleStorage {\n",
    "    uint256 private data;\n",
    "\n",
    "    function set(uint256 x) public {\n",
    "        data = x;\n",
    "    }\n",
    "\n",
    "    function get() public view returns (uint256) {\n",
    "        return data;\n",
    "    }\n",
    "}\n",
    "\"\"\"\n",
    "\n",
    "features = extract_features_from_raw_code(solidity_code)\n",
    "print(features)\n"
   ]
  },
  {
   "cell_type": "code",
   "execution_count": null,
   "metadata": {},
   "outputs": [],
   "source": []
  }
 ],
 "metadata": {
  "kernelspec": {
   "display_name": "newenv",
   "language": "python",
   "name": "python3"
  },
  "language_info": {
   "codemirror_mode": {
    "name": "ipython",
    "version": 3
   },
   "file_extension": ".py",
   "mimetype": "text/x-python",
   "name": "python",
   "nbconvert_exporter": "python",
   "pygments_lexer": "ipython3",
   "version": "3.9.19"
  }
 },
 "nbformat": 4,
 "nbformat_minor": 2
}
